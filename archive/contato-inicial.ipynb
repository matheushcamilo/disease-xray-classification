{
 "cells": [
  {
   "cell_type": "code",
   "execution_count": 7,
   "metadata": {},
   "outputs": [],
   "source": [
    "##Importando as bibliotecas usadas no projeto\n",
    "#from mpl_toolkits.mplot3d import Axes3D\n",
    "from sklearn.preprocessing import StandardScaler\n",
    "import matplotlib.pyplot as plt \n",
    "import numpy as np \n",
    "import os \n",
    "import pandas as pd \n",
    "import seaborn as sns"
   ]
  },
  {
   "cell_type": "code",
   "execution_count": 2,
   "metadata": {},
   "outputs": [
    {
     "name": "stdout",
     "output_type": "stream",
     "text": [
      "O número de observações é:  5606\n"
     ]
    }
   ],
   "source": [
    "# Carregamento dos dados do arquivo csv\n",
    "data = pd.read_csv('./sample/sample_labels.csv', delimiter=',')\n",
    "data.dataframeName = 'sample_labels.csv'\n",
    "\n",
    "# Número de observações\n",
    "num_obs = len(data)\n",
    "print('O número de observações é: ',num_obs)"
   ]
  },
  {
   "cell_type": "code",
   "execution_count": 3,
   "metadata": {},
   "outputs": [
    {
     "name": "stdout",
     "output_type": "stream",
     "text": [
      "5606\n"
     ]
    }
   ],
   "source": [
    "absolute_path = \"./sample/images\"\n",
    "images_path = [os.path.join(absolute_path, relative_path) for relative_path\n",
    " in sorted(os.listdir(absolute_path))]\n",
    "\n",
    "#Para verificar se tudo que foi feito tem consistência, verificarei se o número de imagens é igual\n",
    "#ao número de casos do arquivo csv\n",
    "print(len(images_path))"
   ]
  },
  {
   "cell_type": "code",
   "execution_count": 4,
   "metadata": {},
   "outputs": [
    {
     "data": {
      "text/html": [
       "<div>\n",
       "<style scoped>\n",
       "    .dataframe tbody tr th:only-of-type {\n",
       "        vertical-align: middle;\n",
       "    }\n",
       "\n",
       "    .dataframe tbody tr th {\n",
       "        vertical-align: top;\n",
       "    }\n",
       "\n",
       "    .dataframe thead th {\n",
       "        text-align: right;\n",
       "    }\n",
       "</style>\n",
       "<table border=\"1\" class=\"dataframe\">\n",
       "  <thead>\n",
       "    <tr style=\"text-align: right;\">\n",
       "      <th></th>\n",
       "      <th>Image Index</th>\n",
       "      <th>Finding Labels</th>\n",
       "      <th>Follow-up #</th>\n",
       "      <th>Patient ID</th>\n",
       "      <th>Patient Age</th>\n",
       "      <th>Patient Gender</th>\n",
       "      <th>View Position</th>\n",
       "      <th>OriginalImageWidth</th>\n",
       "      <th>OriginalImageHeight</th>\n",
       "      <th>OriginalImagePixelSpacing_x</th>\n",
       "      <th>OriginalImagePixelSpacing_y</th>\n",
       "      <th>full_path</th>\n",
       "    </tr>\n",
       "  </thead>\n",
       "  <tbody>\n",
       "    <tr>\n",
       "      <th>0</th>\n",
       "      <td>00000013_005.png</td>\n",
       "      <td>Emphysema|Infiltration|Pleural_Thickening|Pneu...</td>\n",
       "      <td>5</td>\n",
       "      <td>13</td>\n",
       "      <td>060Y</td>\n",
       "      <td>M</td>\n",
       "      <td>AP</td>\n",
       "      <td>3056</td>\n",
       "      <td>2544</td>\n",
       "      <td>0.139</td>\n",
       "      <td>0.139</td>\n",
       "      <td>./sample/images/00000013_005.png</td>\n",
       "    </tr>\n",
       "    <tr>\n",
       "      <th>1</th>\n",
       "      <td>00000013_026.png</td>\n",
       "      <td>Cardiomegaly|Emphysema</td>\n",
       "      <td>26</td>\n",
       "      <td>13</td>\n",
       "      <td>057Y</td>\n",
       "      <td>M</td>\n",
       "      <td>AP</td>\n",
       "      <td>2500</td>\n",
       "      <td>2048</td>\n",
       "      <td>0.168</td>\n",
       "      <td>0.168</td>\n",
       "      <td>./sample/images/00000013_026.png</td>\n",
       "    </tr>\n",
       "    <tr>\n",
       "      <th>2</th>\n",
       "      <td>00000017_001.png</td>\n",
       "      <td>No Finding</td>\n",
       "      <td>1</td>\n",
       "      <td>17</td>\n",
       "      <td>077Y</td>\n",
       "      <td>M</td>\n",
       "      <td>AP</td>\n",
       "      <td>2500</td>\n",
       "      <td>2048</td>\n",
       "      <td>0.168</td>\n",
       "      <td>0.168</td>\n",
       "      <td>./sample/images/00000017_001.png</td>\n",
       "    </tr>\n",
       "    <tr>\n",
       "      <th>3</th>\n",
       "      <td>00000030_001.png</td>\n",
       "      <td>Atelectasis</td>\n",
       "      <td>1</td>\n",
       "      <td>30</td>\n",
       "      <td>079Y</td>\n",
       "      <td>M</td>\n",
       "      <td>PA</td>\n",
       "      <td>2992</td>\n",
       "      <td>2991</td>\n",
       "      <td>0.143</td>\n",
       "      <td>0.143</td>\n",
       "      <td>./sample/images/00000030_001.png</td>\n",
       "    </tr>\n",
       "    <tr>\n",
       "      <th>4</th>\n",
       "      <td>00000032_001.png</td>\n",
       "      <td>Cardiomegaly|Edema|Effusion</td>\n",
       "      <td>1</td>\n",
       "      <td>32</td>\n",
       "      <td>055Y</td>\n",
       "      <td>F</td>\n",
       "      <td>AP</td>\n",
       "      <td>2500</td>\n",
       "      <td>2048</td>\n",
       "      <td>0.168</td>\n",
       "      <td>0.168</td>\n",
       "      <td>./sample/images/00000032_001.png</td>\n",
       "    </tr>\n",
       "  </tbody>\n",
       "</table>\n",
       "</div>"
      ],
      "text/plain": [
       "        Image Index                                     Finding Labels  \\\n",
       "0  00000013_005.png  Emphysema|Infiltration|Pleural_Thickening|Pneu...   \n",
       "1  00000013_026.png                             Cardiomegaly|Emphysema   \n",
       "2  00000017_001.png                                         No Finding   \n",
       "3  00000030_001.png                                        Atelectasis   \n",
       "4  00000032_001.png                        Cardiomegaly|Edema|Effusion   \n",
       "\n",
       "   Follow-up #  Patient ID Patient Age Patient Gender View Position  \\\n",
       "0            5          13        060Y              M            AP   \n",
       "1           26          13        057Y              M            AP   \n",
       "2            1          17        077Y              M            AP   \n",
       "3            1          30        079Y              M            PA   \n",
       "4            1          32        055Y              F            AP   \n",
       "\n",
       "   OriginalImageWidth  OriginalImageHeight  OriginalImagePixelSpacing_x  \\\n",
       "0                3056                 2544                        0.139   \n",
       "1                2500                 2048                        0.168   \n",
       "2                2500                 2048                        0.168   \n",
       "3                2992                 2991                        0.143   \n",
       "4                2500                 2048                        0.168   \n",
       "\n",
       "   OriginalImagePixelSpacing_y                         full_path  \n",
       "0                        0.139  ./sample/images/00000013_005.png  \n",
       "1                        0.168  ./sample/images/00000013_026.png  \n",
       "2                        0.168  ./sample/images/00000017_001.png  \n",
       "3                        0.143  ./sample/images/00000030_001.png  \n",
       "4                        0.168  ./sample/images/00000032_001.png  "
      ]
     },
     "execution_count": 4,
     "metadata": {},
     "output_type": "execute_result"
    }
   ],
   "source": [
    "#Criando coluna para localizar cada imagem pelo caminho absoluto\n",
    "data['full_path'] = images_path\n",
    "data.head(5)"
   ]
  },
  {
   "cell_type": "code",
   "execution_count": 5,
   "metadata": {},
   "outputs": [
    {
     "name": "stdout",
     "output_type": "stream",
     "text": [
      "                                                    Finding Labels\n",
      "No Finding                                                    3044\n",
      "Infiltration                                                   503\n",
      "Effusion                                                       203\n",
      "Atelectasis                                                    192\n",
      "Nodule                                                         144\n",
      "...                                                            ...\n",
      "Atelectasis|Edema|Effusion|Infiltration|Pneumonia                1\n",
      "Atelectasis|Consolidation|Edema|Infiltration|Pn...               1\n",
      "Atelectasis|Effusion|Hernia                                      1\n",
      "Atelectasis|Hernia|Pneumothorax                                  1\n",
      "Cardiomegaly|Effusion|Emphysema                                  1\n",
      "\n",
      "[244 rows x 1 columns]\n"
     ]
    }
   ],
   "source": [
    "#Preparando os dados para uma análise visual prévia\n",
    "\n",
    "#Quantidade de registros por label\n",
    "quantidade_registros_por_label = data['Finding Labels'].value_counts()\n",
    "quantidade_registros_por_label_dataframe = quantidade_registros_por_label.to_frame()\n",
    "print(quantidade_registros_por_label_dataframe)"
   ]
  },
  {
   "cell_type": "code",
   "execution_count": 9,
   "metadata": {},
   "outputs": [
    {
     "data": {
      "text/plain": [
       "(array([ 0,  1,  2,  3,  4,  5,  6,  7,  8,  9, 10, 11, 12, 13, 14, 15, 16,\n",
       "        17, 18, 19]),\n",
       " [Text(0, 0, 'No Finding'),\n",
       "  Text(1, 0, 'Infiltration'),\n",
       "  Text(2, 0, 'Effusion'),\n",
       "  Text(3, 0, 'Atelectasis'),\n",
       "  Text(4, 0, 'Nodule'),\n",
       "  Text(5, 0, 'Pneumothorax'),\n",
       "  Text(6, 0, 'Mass'),\n",
       "  Text(7, 0, 'Consolidation'),\n",
       "  Text(8, 0, 'Effusion|Infiltration'),\n",
       "  Text(9, 0, 'Pleural_Thickening'),\n",
       "  Text(10, 0, 'Atelectasis|Infiltration'),\n",
       "  Text(11, 0, 'Atelectasis|Effusion'),\n",
       "  Text(12, 0, 'Cardiomegaly'),\n",
       "  Text(13, 0, 'Infiltration|Nodule'),\n",
       "  Text(14, 0, 'Emphysema'),\n",
       "  Text(15, 0, 'Edema'),\n",
       "  Text(16, 0, 'Fibrosis'),\n",
       "  Text(17, 0, 'Atelectasis|Effusion|Infiltration'),\n",
       "  Text(18, 0, 'Cardiomegaly|Effusion'),\n",
       "  Text(19, 0, 'Infiltration|Mass')])"
      ]
     },
     "execution_count": 9,
     "metadata": {},
     "output_type": "execute_result"
    },
    {
     "data": {
      "image/png": "[encoded data removed]",
      "text/plain": [
       "<Figure size 432x288 with 1 Axes>"
      ]
     },
     "metadata": {
      "needs_background": "light"
     },
     "output_type": "display_data"
    }
   ],
   "source": [
    "sns.barplot(x = quantidade_registros_por_label_dataframe.index[:20], y=\"Finding Labels\",\n",
    " data=quantidade_registros_por_label_dataframe[:20], color = \"blue\")\n",
    "plt.xticks(rotation = 90) "
   ]
  },
  {
   "cell_type": "code",
   "execution_count": null,
   "metadata": {},
   "outputs": [],
   "source": []
  }
 ],
 "metadata": {
  "interpreter": {
   "hash": "916dbcbb3f70747c44a77c7bcd40155683ae19c65e1c03b4aa3499c5328201f1"
  },
  "kernelspec": {
   "display_name": "Python 3.8.10 64-bit",
   "language": "python",
   "name": "python3"
  },
  "language_info": {
   "codemirror_mode": {
    "name": "ipython",
    "version": 3
   },
   "file_extension": ".py",
   "mimetype": "text/x-python",
   "name": "python",
   "nbconvert_exporter": "python",
   "pygments_lexer": "ipython3",
   "version": "3.8.10"
  },
  "orig_nbformat": 4
 },
 "nbformat": 4,
 "nbformat_minor": 2
}
